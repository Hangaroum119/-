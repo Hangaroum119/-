{
  "nbformat": 4,
  "nbformat_minor": 0,
  "metadata": {
    "colab": {
      "name": "GDSC10_06.ipynb",
      "provenance": [],
      "collapsed_sections": [],
      "authorship_tag": "ABX9TyNGny3Ml4ZUteewW6nQQgZi",
      "include_colab_link": true
    },
    "kernelspec": {
      "name": "python3",
      "display_name": "Python 3"
    },
    "language_info": {
      "name": "python"
    }
  },
  "cells": [
    {
      "cell_type": "markdown",
      "metadata": {
        "id": "view-in-github",
        "colab_type": "text"
      },
      "source": [
        "<a href=\"https://colab.research.google.com/github/Hangaroum119/TIL/blob/main/GDSC10_06.ipynb\" target=\"_parent\"><img src=\"https://colab.research.google.com/assets/colab-badge.svg\" alt=\"Open In Colab\"/></a>"
      ]
    },
    {
      "cell_type": "markdown",
      "metadata": {
        "id": "ETx_SX4og2Lf"
      },
      "source": [
        "##데이터 다루기\n",
        "\n",
        "\n",
        "---\n",
        "\n",
        "> 머신러닝\n",
        "\n",
        " - 지도학습\n",
        " - 비지도학습\n",
        " - 강화학습 \n",
        "\n",
        "  *input : 입력데이터*  \n",
        "  *target : 정답*\n",
        "  \n",
        "</n>   \n",
        "</n>  \n",
        "      \n",
        "> 훈련데이터(Train)와 테스트데이터(Test)\n",
        "\n",
        "- train data : 모델을 학습시키는 데이터(파라미터 조정)  \n",
        "- test data : 학습된 모델의 성능을 확인하는 데이터 \n",
        "\n",
        "</n>   \n",
        "</n>  \n",
        "        \n",
        "> 실제 데이터 다뤄보기\n",
        "\n",
        "- 데이터 : 도미와 빙어의 길이(length), 무게(weight)"
      ]
    },
    {
      "cell_type": "code",
      "metadata": {
        "id": "L38Lqt8PFCOr"
      },
      "source": [
        "# fish_length : 길이 / fish_weight : 무게 \n",
        "# -> 이처럼 관찰 대상에 대한 속성(특징 ex)무게,길이)을 표현한 것을 특성(feature)라고 함\n",
        "# index 0-35 : 도미 /  35-39 : 빙어\n",
        "\n",
        "fish_length = [25.4, 26.3, 26.5, 29.0, 29.0, 29.7, 29.7, 30.0, 30.0, 30.7, 31.0, 31.0, \n",
        "                31.5, 32.0, 32.0, 32.0, 33.0, 33.0, 33.5, 33.5, 34.0, 34.0, 34.5, 35.0, \n",
        "                35.0, 35.0, 35.0, 36.0, 36.0, 37.0, 38.5, 38.5, 39.5, 41.0, 41.0, 9.8, \n",
        "                10.5, 10.6, 11.0, 11.2, 11.3, 11.8, 11.8, 12.0, 12.2, 12.4, 13.0, 14.3, 15.0]\n",
        "fish_weight = [242.0, 290.0, 340.0, 363.0, 430.0, 450.0, 500.0, 390.0, 450.0, 500.0, 475.0, 500.0, \n",
        "                500.0, 340.0, 600.0, 600.0, 700.0, 700.0, 610.0, 650.0, 575.0, 685.0, 620.0, 680.0, \n",
        "                700.0, 725.0, 720.0, 714.0, 850.0, 1000.0, 920.0, 955.0, 925.0, 975.0, 950.0, 6.7, \n",
        "                7.5, 7.0, 9.7, 9.8, 8.7, 10.0, 9.9, 9.8, 12.2, 13.4, 12.2, 19.7, 19.9]"
      ],
      "execution_count": 68,
      "outputs": []
    },
    {
      "cell_type": "code",
      "metadata": {
        "colab": {
          "base_uri": "https://localhost:8080/",
          "height": 279
        },
        "id": "BAjP16kmFpmF",
        "outputId": "bba97796-6219-45eb-a1aa-ed174205645f"
      },
      "source": [
        "##시각화\n",
        "\n",
        "import matplotlib.pyplot as plt #시각화를 위한 라이브러리\n",
        "\n",
        "plt.scatter(fish_length, fish_weight) #산점도 그래프\n",
        "plt.xlabel('length') #x축 label\n",
        "plt.ylabel('weight') #y축 label\n",
        "plt.show() #그래프에 실제 화면에 출력"
      ],
      "execution_count": null,
      "outputs": [
        {
          "output_type": "display_data",
          "data": {
            "image/png": "[encoded data removed]",
            "text/plain": [
              "<Figure size 432x288 with 1 Axes>"
            ]
          },
          "metadata": {
            "needs_background": "light"
          }
        }
      ]
    },
    {
      "cell_type": "code",
      "metadata": {
        "colab": {
          "base_uri": "https://localhost:8080/"
        },
        "id": "LGueRxbxGUi-",
        "outputId": "162ded4b-a5c1-4877-81c7-6ea627b9cd08"
      },
      "source": [
        "#fish_data : 2차원 리스트\n",
        "fish_data = [[l,w] for l,w in zip(fish_length,fish_weight)] #length,weight을 index 기준으로 쌍으로 묶어 하나의 리스트 변환\n",
        "fish_target = [1] * 35 + [0] * 14 #1 = 도미, 0 = 빙어로 target변수 생성\n",
        "\n",
        "print(fish_data)"
      ],
      "execution_count": null,
      "outputs": [
        {
          "output_type": "stream",
          "name": "stdout",
          "text": [
            "[[25.4, 242.0], [26.3, 290.0], [26.5, 340.0], [29.0, 363.0], [29.0, 430.0], [29.7, 450.0], [29.7, 500.0], [30.0, 390.0], [30.0, 450.0], [30.7, 500.0], [31.0, 475.0], [31.0, 500.0], [31.5, 500.0], [32.0, 340.0], [32.0, 600.0], [32.0, 600.0], [33.0, 700.0], [33.0, 700.0], [33.5, 610.0], [33.5, 650.0], [34.0, 575.0], [34.0, 685.0], [34.5, 620.0], [35.0, 680.0], [35.0, 700.0], [35.0, 725.0], [35.0, 720.0], [36.0, 714.0], [36.0, 850.0], [37.0, 1000.0], [38.5, 920.0], [38.5, 955.0], [39.5, 925.0], [41.0, 975.0], [41.0, 950.0], [9.8, 6.7], [10.5, 7.5], [10.6, 7.0], [11.0, 9.7], [11.2, 9.8], [11.3, 8.7], [11.8, 10.0], [11.8, 9.9], [12.0, 9.8], [12.2, 12.2], [12.4, 13.4], [13.0, 12.2], [14.3, 19.7], [15.0, 19.9]]\n"
          ]
        }
      ]
    },
    {
      "cell_type": "code",
      "metadata": {
        "id": "a9V0h86UINTF"
      },
      "source": [
        "#비지도학습 : K-Nearest Neighbors (k-최근접 이웃 분류 알고리즘)\n",
        "from sklearn.neighbors import KNeighborsClassifier #사이킷런에서 KNN 클래스 불러오기\n",
        "kn = KNeighborsClassifier() "
      ],
      "execution_count": null,
      "outputs": []
    },
    {
      "cell_type": "code",
      "metadata": {
        "id": "SywE_RyCIcPU"
      },
      "source": [
        "#train : test = 35 : 14 비율로 나눔\n",
        "#이런 식으로 범위 지정해  데이터를 가져오는 것을 \"슬라이싱(slicing)\"라고 함 \n",
        "train_input = fish_data[:35]\n",
        "train_target = fish_target[:35]\n",
        "\n",
        "test_input = fish_data[35:]\n",
        "test_target = fish_target[35:]"
      ],
      "execution_count": null,
      "outputs": []
    },
    {
      "cell_type": "code",
      "metadata": {
        "colab": {
          "base_uri": "https://localhost:8080/"
        },
        "id": "gqoLmW8gItkN",
        "outputId": "73428bf3-d678-4245-9684-4e46a1534317"
      },
      "source": [
        "kn = kn.fit(train_input,train_target) #모델학습\n",
        "kn.score(test_input,test_target) #모델평가"
      ],
      "execution_count": null,
      "outputs": [
        {
          "output_type": "execute_result",
          "data": {
            "text/plain": [
              "0.0"
            ]
          },
          "metadata": {},
          "execution_count": 12
        }
      ]
    },
    {
      "cell_type": "markdown",
      "metadata": {
        "id": "hwKcaBHwrHcY"
      },
      "source": [
        "결과가 0.0이 나옴  \n",
        "\n",
        "[이  유]  \n",
        ": 샘플링의 편향 때문이다.  \n",
        "  도미만 공부(Train data) 했는데 갑자기 시험(Test data)에서 빙어가 나온 것이라 생각하면 쉽다.\n",
        "\n",
        "그럼 데이터를 잘 나눠서 다시 해보자"
      ]
    },
    {
      "cell_type": "code",
      "metadata": {
        "colab": {
          "base_uri": "https://localhost:8080/"
        },
        "id": "rmfjuCgOIwJd",
        "outputId": "050c63ab-6d21-46aa-f5ef-14f7986f1f84"
      },
      "source": [
        "import numpy as np #numpy : 파이썬의 대표적인 배열 라이브러리\n",
        "\n",
        "input_arr = np.array(fish_data) \n",
        "target_arr = np.array(fish_target)\n",
        "\n",
        "\n",
        "print(input_arr)"
      ],
      "execution_count": null,
      "outputs": [
        {
          "output_type": "stream",
          "name": "stdout",
          "text": [
            "[[  25.4  242. ]\n",
            " [  26.3  290. ]\n",
            " [  26.5  340. ]\n",
            " [  29.   363. ]\n",
            " [  29.   430. ]\n",
            " [  29.7  450. ]\n",
            " [  29.7  500. ]\n",
            " [  30.   390. ]\n",
            " [  30.   450. ]\n",
            " [  30.7  500. ]\n",
            " [  31.   475. ]\n",
            " [  31.   500. ]\n",
            " [  31.5  500. ]\n",
            " [  32.   340. ]\n",
            " [  32.   600. ]\n",
            " [  32.   600. ]\n",
            " [  33.   700. ]\n",
            " [  33.   700. ]\n",
            " [  33.5  610. ]\n",
            " [  33.5  650. ]\n",
            " [  34.   575. ]\n",
            " [  34.   685. ]\n",
            " [  34.5  620. ]\n",
            " [  35.   680. ]\n",
            " [  35.   700. ]\n",
            " [  35.   725. ]\n",
            " [  35.   720. ]\n",
            " [  36.   714. ]\n",
            " [  36.   850. ]\n",
            " [  37.  1000. ]\n",
            " [  38.5  920. ]\n",
            " [  38.5  955. ]\n",
            " [  39.5  925. ]\n",
            " [  41.   975. ]\n",
            " [  41.   950. ]\n",
            " [   9.8    6.7]\n",
            " [  10.5    7.5]\n",
            " [  10.6    7. ]\n",
            " [  11.     9.7]\n",
            " [  11.2    9.8]\n",
            " [  11.3    8.7]\n",
            " [  11.8   10. ]\n",
            " [  11.8    9.9]\n",
            " [  12.     9.8]\n",
            " [  12.2   12.2]\n",
            " [  12.4   13.4]\n",
            " [  13.    12.2]\n",
            " [  14.3   19.7]\n",
            " [  15.    19.9]]\n"
          ]
        }
      ]
    },
    {
      "cell_type": "code",
      "metadata": {
        "colab": {
          "base_uri": "https://localhost:8080/"
        },
        "id": "kqQgML7dJem8",
        "outputId": "b7cf4288-b935-473a-bfd8-6fd7926bdf90"
      },
      "source": [
        "input_arr.shape #shape : 배열의 크기를 알려줌"
      ],
      "execution_count": null,
      "outputs": [
        {
          "output_type": "execute_result",
          "data": {
            "text/plain": [
              "(49, 2)"
            ]
          },
          "metadata": {},
          "execution_count": 19
        }
      ]
    },
    {
      "cell_type": "code",
      "metadata": {
        "colab": {
          "base_uri": "https://localhost:8080/"
        },
        "id": "ccA3kGhlJj6t",
        "outputId": "ac1c9c4f-b2db-4482-fc53-57d62756dda8"
      },
      "source": [
        "np.random.seed(42) #랜덤은 실행할때마다 무작위라서, 일정한 결과를 얻을려고 시드값(seed) 고정\n",
        "index = np.arange(49) #0-48까지 1(default)을 간격으로 둔 수들을 array형태로 변환\n",
        "np.random.shuffle(index) #무작위로 섞기\n",
        "print(index)"
      ],
      "execution_count": null,
      "outputs": [
        {
          "output_type": "stream",
          "name": "stdout",
          "text": [
            "[13 45 47 44 17 27 26 25 31 19 12  4 34  8  3  6 40 41 46 15  9 16 24 33\n",
            " 30  0 43 32  5 29 11 36  1 21  2 37 35 23 39 10 22 18 48 20  7 42 14 28\n",
            " 38]\n"
          ]
        }
      ]
    },
    {
      "cell_type": "code",
      "metadata": {
        "colab": {
          "base_uri": "https://localhost:8080/"
        },
        "id": "H3aLS3F7J4-8",
        "outputId": "5b413bac-7875-4c20-8665-96fe659aa427"
      },
      "source": [
        "print(input_arr[[1,3]])"
      ],
      "execution_count": null,
      "outputs": [
        {
          "output_type": "stream",
          "name": "stdout",
          "text": [
            "[[ 26.3 290. ]\n",
            " [ 29.  363. ]]\n"
          ]
        }
      ]
    },
    {
      "cell_type": "code",
      "metadata": {
        "colab": {
          "base_uri": "https://localhost:8080/"
        },
        "id": "nu4AePg2KA38",
        "outputId": "a782de93-798e-4be2-8f9f-865af2c50632"
      },
      "source": [
        "#train : test = 35 : 14 비율로 나눔\n",
        "train_input = input_arr[index[:35]] \n",
        "train_target = target_arr[index[:35]]\n",
        "\n",
        "test_input = input_arr[index[35:]]\n",
        "test_target = target_arr[index[35:]]\n",
        "\n",
        "print(train_input[0])"
      ],
      "execution_count": null,
      "outputs": [
        {
          "output_type": "stream",
          "name": "stdout",
          "text": [
            "[ 32. 340.]\n"
          ]
        }
      ]
    },
    {
      "cell_type": "code",
      "metadata": {
        "colab": {
          "base_uri": "https://localhost:8080/",
          "height": 279
        },
        "id": "wgyAJkYeK71l",
        "outputId": "cbd84161-3267-459c-af56-61dfc382ab5e"
      },
      "source": [
        "import matplotlib.pyplot as plt\n",
        "\n",
        "#train data(파랑색)와 test data(주황색)를 산점도 그래프로 그림\n",
        "plt.scatter(train_input[:,0], train_input[:,1]) \n",
        "plt.scatter(test_input[:,0],test_input[:,1])\n",
        "plt.xlabel('length')\n",
        "plt.ylabel('weight')\n",
        "plt.show()"
      ],
      "execution_count": null,
      "outputs": [
        {
          "output_type": "display_data",
          "data": {
            "image/png": "[encoded data removed]",
            "text/plain": [
              "<Figure size 432x288 with 1 Axes>"
            ]
          },
          "metadata": {
            "needs_background": "light"
          }
        }
      ]
    },
    {
      "cell_type": "code",
      "metadata": {
        "colab": {
          "base_uri": "https://localhost:8080/"
        },
        "id": "nZHYo6-YMEGE",
        "outputId": "45b95388-160e-4df6-94fe-a222f4452ee4"
      },
      "source": [
        "kn = kn.fit(train_input,train_target)\n",
        "kn.score(test_input,test_target)"
      ],
      "execution_count": null,
      "outputs": [
        {
          "output_type": "execute_result",
          "data": {
            "text/plain": [
              "1.0"
            ]
          },
          "metadata": {},
          "execution_count": 43
        }
      ]
    },
    {
      "cell_type": "code",
      "metadata": {
        "colab": {
          "base_uri": "https://localhost:8080/"
        },
        "id": "j3_TF3mTMVEc",
        "outputId": "17edeecf-ceb0-402f-8fbc-b3bd6985b1c1"
      },
      "source": [
        "print(kn.predict([[30,600]])) #new data([30,600])의 class 예측 결과 확인\n",
        "\n",
        "print(kn.predict(test_input)) #test data의 class 예측 결과 확인\n",
        "print(test_target)"
      ],
      "execution_count": null,
      "outputs": [
        {
          "output_type": "stream",
          "name": "stdout",
          "text": [
            "[1]\n",
            "[0 0 1 0 1 1 1 0 1 1 0 1 1 0]\n",
            "[0 0 1 0 1 1 1 0 1 1 0 1 1 0]\n"
          ]
        }
      ]
    },
    {
      "cell_type": "code",
      "metadata": {
        "colab": {
          "base_uri": "https://localhost:8080/"
        },
        "id": "VB3NhRdlMXkE",
        "outputId": "bc9d5536-859a-442b-ed07-54065072855d"
      },
      "source": [
        "print(kn.predict([[25,150]])) #길이 25cm, 무게 150g 도미 데이터 "
      ],
      "execution_count": null,
      "outputs": [
        {
          "output_type": "stream",
          "name": "stdout",
          "text": [
            "[0]\n"
          ]
        }
      ]
    },
    {
      "cell_type": "markdown",
      "metadata": {
        "id": "4EhZ6HLJ1OsK"
      },
      "source": [
        "왜 해당 데이터의 결과는 왜 틀린걸까? 이유는 밑에서 보자"
      ]
    },
    {
      "cell_type": "code",
      "metadata": {
        "id": "FrRIrSfjMl8D"
      },
      "source": [
        "fish_length = [25.4, 26.3, 26.5, 29.0, 29.0, 29.7, 29.7, 30.0, 30.0, 30.7, 31.0, 31.0, \n",
        "                31.5, 32.0, 32.0, 32.0, 33.0, 33.0, 33.5, 33.5, 34.0, 34.0, 34.5, 35.0, \n",
        "                35.0, 35.0, 35.0, 36.0, 36.0, 37.0, 38.5, 38.5, 39.5, 41.0, 41.0, 9.8, \n",
        "                10.5, 10.6, 11.0, 11.2, 11.3, 11.8, 11.8, 12.0, 12.2, 12.4, 13.0, 14.3, 15.0]\n",
        "fish_weight = [242.0, 290.0, 340.0, 363.0, 430.0, 450.0, 500.0, 390.0, 450.0, 500.0, 475.0, 500.0, \n",
        "                500.0, 340.0, 600.0, 600.0, 700.0, 700.0, 610.0, 650.0, 575.0, 685.0, 620.0, 680.0, \n",
        "                700.0, 725.0, 720.0, 714.0, 850.0, 1000.0, 920.0, 955.0, 925.0, 975.0, 950.0, 6.7, \n",
        "                7.5, 7.0, 9.7, 9.8, 8.7, 10.0, 9.9, 9.8, 12.2, 13.4, 12.2, 19.7, 19.9]"
      ],
      "execution_count": null,
      "outputs": []
    },
    {
      "cell_type": "code",
      "metadata": {
        "id": "7HSfYZpyOBgr"
      },
      "source": [
        "import numpy as np\n",
        "\n",
        "fish_data = np.column_stack((fish_length,fish_weight))\n",
        "\n",
        "#np.column_stack() : 한번에 2차원 리스트로 만들어줌\n",
        "#해당 메소드의 값이 tuple이기에 데이터형을 맞춰줌 "
      ],
      "execution_count": 70,
      "outputs": []
    },
    {
      "cell_type": "code",
      "metadata": {
        "colab": {
          "base_uri": "https://localhost:8080/"
        },
        "id": "6BHb6YQwPf3M",
        "outputId": "2c8a25ee-8e16-428e-f4fb-886ae7dc3a36"
      },
      "source": [
        "# 정답 만들기\n",
        "# np.ones() : 1로 채운 배열 생성\n",
        "# np.zeros() : 0으로 채운 배열 생성\n",
        "# np.concatenate() : 두 데이터를 이어서 만들어줌\n",
        "\n",
        "fish_target = np.concatenate((np.ones(35), np.zeros(14)))\n",
        "\n",
        "print(fish_target)"
      ],
      "execution_count": null,
      "outputs": [
        {
          "output_type": "stream",
          "name": "stdout",
          "text": [
            "[1. 1. 1. 1. 1. 1. 1. 1. 1. 1. 1. 1. 1. 1. 1. 1. 1. 1. 1. 1. 1. 1. 1. 1.\n",
            " 1. 1. 1. 1. 1. 1. 1. 1. 1. 1. 1. 0. 0. 0. 0. 0. 0. 0. 0. 0. 0. 0. 0. 0.\n",
            " 0.]\n"
          ]
        }
      ]
    },
    {
      "cell_type": "code",
      "metadata": {
        "colab": {
          "base_uri": "https://localhost:8080/"
        },
        "id": "BTyVMH9OPuD7",
        "outputId": "3e3150a0-28ea-49da-8005-7dea1e3eee94"
      },
      "source": [
        "from sklearn.model_selection import train_test_split\n",
        "\n",
        "#seed값을 42로 고정하고 train,test로 나누기, 기본적으로 25%를 test data로 나눈다. \n",
        "train_input,test_input,train_target,test_target = train_test_split(fish_data,fish_target,random_state=42)\n",
        "\n",
        "print(train_input.shape,test_input.shape)\n",
        "print(train_target.shape,test_target.shape)"
      ],
      "execution_count": null,
      "outputs": [
        {
          "output_type": "stream",
          "name": "stdout",
          "text": [
            "(36, 2) (13, 2)\n",
            "(36,) (13,)\n"
          ]
        }
      ]
    },
    {
      "cell_type": "code",
      "metadata": {
        "colab": {
          "base_uri": "https://localhost:8080/"
        },
        "id": "b_vypSd_Qx1C",
        "outputId": "7fb75ef0-3ef5-4367-f7f8-7fa898339e2d"
      },
      "source": [
        "print(test_target) "
      ],
      "execution_count": null,
      "outputs": [
        {
          "output_type": "stream",
          "name": "stdout",
          "text": [
            "[1. 0. 0. 0. 1. 1. 1. 1. 1. 1. 1. 1. 1.]\n"
          ]
        }
      ]
    },
    {
      "cell_type": "markdown",
      "metadata": {
        "id": "Sud9SR-v2BLZ"
      },
      "source": [
        "test_target에 도미(class=1)의 비율이 높다.\n",
        "\n",
        "원본 데이터에서 도미 : 빙어 = 35 : 14로 비율이 2.5 : 1이지만 test_target에선 3.3 : 1이다.  \n",
        "이처럼 샘플링 했을 때 class 비율이 안 맞는 경우가 존재할 수 있기에 원본 class 비율에 맞춰 샘플링하게 한다."
      ]
    },
    {
      "cell_type": "code",
      "metadata": {
        "id": "0s8fuOjLQ0oj"
      },
      "source": [
        "##stratify : 매개변수에 타깃 데이터를 전달하면 비율에 맞게 데이터를 나눔\n",
        "train_input,test_input,train_target,test_target = train_test_split(fish_data,fish_target,stratify=fish_target,random_state=42)"
      ],
      "execution_count": null,
      "outputs": []
    },
    {
      "cell_type": "code",
      "metadata": {
        "colab": {
          "base_uri": "https://localhost:8080/",
          "height": 279
        },
        "id": "iMkWcJIiSNxb",
        "outputId": "42e049cf-ce3b-4f01-f74a-8e07c8773c7e"
      },
      "source": [
        "from sklearn.neighbors import KNeighborsClassifier\n",
        "kn = KNeighborsClassifier()\n",
        "kn.fit(train_input,train_target)\n",
        "kn.score(test_input,test_target)\n",
        "\n",
        "import matplotlib.pyplot as plt\n",
        "\n",
        "#[25,150]이란 데이터만 확인(주황색)\n",
        "plt.scatter(train_input[:,0],train_input[:,1]) \n",
        "plt.scatter(25,150,marker='^')\n",
        "plt.xlabel('length')\n",
        "plt.ylabel('weight')\n",
        "plt.show()"
      ],
      "execution_count": null,
      "outputs": [
        {
          "output_type": "display_data",
          "data": {
            "image/png": "[encoded data removed]",
            "text/plain": [
              "<Figure size 432x288 with 1 Axes>"
            ]
          },
          "metadata": {
            "needs_background": "light"
          }
        }
      ]
    },
    {
      "cell_type": "code",
      "metadata": {
        "colab": {
          "base_uri": "https://localhost:8080/",
          "height": 297
        },
        "id": "zD7YG9jcSPpL",
        "outputId": "fe244e34-71a0-4a93-8121-171779b18039"
      },
      "source": [
        "distances, indexes = kn.kneighbors([[25,150]]) \n",
        "\n",
        "#[25,150] data(주황색)의 이웃 샘플(초록색)과의 거리 확인\n",
        "plt.scatter(train_input[:,0],train_input[:,1]) \n",
        "plt.scatter(25,150,marker='^')\n",
        "plt.scatter(train_input[indexes,0],train_input[indexes,1],marker='D')\n",
        "plt.xlabel('length')\n",
        "plt.ylabel('weight')\n",
        "plt.show()\n",
        "\n",
        "print(distances, indexes) #n_neighborsint의 default=5임으로 new_data의 군집을 결정할 때 주변 데이터 5개를 이용해서 군집 결정됨"
      ],
      "execution_count": null,
      "outputs": [
        {
          "output_type": "display_data",
          "data": {
            "image/png": "[encoded data removed]",
            "text/plain": [
              "<Figure size 432x288 with 1 Axes>"
            ]
          },
          "metadata": {
            "needs_background": "light"
          }
        },
        {
          "output_type": "stream",
          "name": "stdout",
          "text": [
            "[[ 92.00086956 130.48375378 130.73859415 138.32150953 138.39320793]] [[21 33 19 30  1]]\n"
          ]
        }
      ]
    },
    {
      "cell_type": "markdown",
      "metadata": {
        "id": "KjZJFN6H4UC8"
      },
      "source": [
        "두 feature(길이,무게) 값의 범위가 매우 다르다. 이처럼 값의 범위를 스케일(Scale)이라 한다.\n",
        "\n",
        "KNN알고리즘은 거리 기반의 알고리즘이라 데이터 간의 거리에 영향을 많이 받는다. 하지만 길이(length)의 스케일과 무게(weight)의 스케일의 차이가 매우 커서 길이의 의미가 사라져버렸다.\n",
        "  \n",
        "이에 feature의 스케일을 맞춰주는 과정이 필요함"
      ]
    },
    {
      "cell_type": "code",
      "metadata": {
        "id": "fLEKAPxtSZ3a"
      },
      "source": [
        "#데이터 스케일링(scaling) - 범위가 다른 데이터들의 범위를 일정하게 맞춰주는 것\n",
        "\n",
        "# StandardScaler \n",
        "#: 기본 스케일로 각 특성의 평균을 0, 분산을 1로 스케일링함. 즉 데이터를 정규분포로 만듬\n",
        "# (평균을 제거하고 데이터를 단위 분산으로 조정)\n",
        "\n",
        "mean = np.mean(train_input,axis=0) #평균\n",
        "std = np.std(train_input,axis=0)  #표준편차\n",
        "train_scaled = (train_input - mean) / std #이처럼 계산하는 것을 '브로드 캐스팅'라고 함"
      ],
      "execution_count": null,
      "outputs": []
    },
    {
      "cell_type": "code",
      "metadata": {
        "colab": {
          "base_uri": "https://localhost:8080/",
          "height": 279
        },
        "id": "MEJr1FdpSeuq",
        "outputId": "c7de32ff-9e08-4656-e61e-3dc8815c4e80"
      },
      "source": [
        "new = ([25,150]-mean)/std #new data도 스케일 적용\n",
        "plt.scatter(train_scaled[:,0],train_scaled[:,1])\n",
        "plt.scatter(new[0],new[1],marker='^')\n",
        "plt.xlabel('length')\n",
        "plt.ylabel('weight')\n",
        "plt.show()\n",
        "#x,y축의 범위가 변한 것을 확인 할 수 있음"
      ],
      "execution_count": null,
      "outputs": [
        {
          "output_type": "display_data",
          "data": {
            "image/png": "[encoded data removed]",
            "text/plain": [
              "<Figure size 432x288 with 1 Axes>"
            ]
          },
          "metadata": {
            "needs_background": "light"
          }
        }
      ]
    },
    {
      "cell_type": "code",
      "metadata": {
        "colab": {
          "base_uri": "https://localhost:8080/"
        },
        "id": "AFadvSd7Sgyi",
        "outputId": "890be802-74ec-427b-c9f0-56ac9b1a1aa9"
      },
      "source": [
        "kn.fit(train_scaled,train_target)"
      ],
      "execution_count": null,
      "outputs": [
        {
          "output_type": "execute_result",
          "data": {
            "text/plain": [
              "KNeighborsClassifier(algorithm='auto', leaf_size=30, metric='minkowski',\n",
              "                     metric_params=None, n_jobs=None, n_neighbors=5, p=2,\n",
              "                     weights='uniform')"
            ]
          },
          "metadata": {},
          "execution_count": 57
        }
      ]
    },
    {
      "cell_type": "code",
      "metadata": {
        "colab": {
          "base_uri": "https://localhost:8080/"
        },
        "id": "YQ3mSDZPSior",
        "outputId": "93f411fc-e252-4c9d-cece-2e51fec30c3f"
      },
      "source": [
        "test_scaled = (test_input - mean) / std\n",
        "\n",
        "kn.score(test_scaled,test_target)"
      ],
      "execution_count": null,
      "outputs": [
        {
          "output_type": "execute_result",
          "data": {
            "text/plain": [
              "1.0"
            ]
          },
          "metadata": {},
          "execution_count": 58
        }
      ]
    },
    {
      "cell_type": "code",
      "metadata": {
        "colab": {
          "base_uri": "https://localhost:8080/",
          "height": 279
        },
        "id": "Kg_kOUCMSlGa",
        "outputId": "5fc5fc22-0c85-494b-9260-ded8e6ff8390"
      },
      "source": [
        "distances, indexes = kn.kneighbors([new]) #이웃까지의 거리와 인덱스 반환\n",
        "\n",
        "\n",
        "plt.scatter(train_scaled[:,0],train_scaled[:,1]) \n",
        "plt.scatter(new[0],new[1],marker='^')\n",
        "plt.scatter(train_scaled[indexes,0],train_scaled[indexes,1],marker='D')\n",
        "plt.xlabel('length')\n",
        "plt.ylabel('weight')\n",
        "plt.show()"
      ],
      "execution_count": null,
      "outputs": [
        {
          "output_type": "display_data",
          "data": {
            "image/png": "[encoded data removed]",
            "text/plain": [
              "<Figure size 432x288 with 1 Axes>"
            ]
          },
          "metadata": {
            "needs_background": "light"
          }
        }
      ]
    },
    {
      "cell_type": "markdown",
      "metadata": {
        "id": "0PH4cxAr7hbT"
      },
      "source": [
        "스케일링을 통해 x축의 영향이 생김에 따라 이웃이 바뀌는 것을 확인할 수 있다. new data가 도미임에도 불구하고 빙어라 한 이유는 feature의 범위를 잡아주지 않아서임을 알 수 있다.\n",
        "\n",
        "오늘 활동을 통해 데이터를 간단하게 다뤄보았다."
      ]
    }
  ]
}